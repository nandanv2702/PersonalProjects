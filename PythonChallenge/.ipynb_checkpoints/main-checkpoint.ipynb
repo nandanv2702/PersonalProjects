{
 "cells": [
  {
   "cell_type": "code",
   "execution_count": 1,
   "metadata": {},
   "outputs": [
    {
     "name": "stdout",
     "output_type": "stream",
     "text": [
      "i hope you didnt translate it by hand  thats what computers are for  doing it in by hand is inefficient and that s why this text is so long  using string maketrans   is recommended  now apply on the url \n",
      "ocr\n"
     ]
    }
   ],
   "source": [
    "# challenge 1\n",
    "code = \"g fmnc wms bgblr rpylqjyrc gr zw fylb. rfyrq ufyr amknsrcpq ypc dmp. bmgle gr gl zw fylb gq glcddgagclr ylb rfyr'q ufw rfgq rcvr gq qm jmle. sqgle qrpgle.kyicrpylq() gq pcamkkclbcb. lmu ynnjw ml rfc spj.\"\n",
    "\n",
    "def makeTrans(code):\n",
    "    alphabet = \"abcdefghijklmnopqrstuvwxyz\"\n",
    "    alphArr = []\n",
    "    for letter in alphabet:\n",
    "        alphArr.append(letter)\n",
    "\n",
    "    newArr = []\n",
    "    for i in range(len(code)):\n",
    "        if code[i] in alphArr:\n",
    "            idx = int(alphArr.index(code[i])+2)\n",
    "            if idx < 26:\n",
    "                newArr.append(alphArr[idx])\n",
    "            else:\n",
    "                idx -= 26\n",
    "                newArr.append(alphArr[idx])\n",
    "        else:\n",
    "            newArr.append(\" \")\n",
    "    print(*newArr, sep=\"\")\n",
    "\n",
    "makeTrans(code)\n",
    "makeTrans(\"map\")"
   ]
  },
  {
   "cell_type": "code",
   "execution_count": 2,
   "metadata": {},
   "outputs": [
    {
     "name": "stdout",
     "output_type": "stream",
     "text": [
      "e\n",
      "q\n",
      "u\n",
      "a\n",
      "l\n",
      "i\n",
      "t\n",
      "y\n"
     ]
    }
   ],
   "source": [
    "# challenge 2\n",
    "from collections import Counter\n",
    "\n",
    "try:\n",
    "    with open('challenge2.txt','r') as f:\n",
    "        text = f.read()\n",
    "        rarest_chars = Counter(text).most_common()[-8:]\n",
    "        for rare_char in rarest_chars:\n",
    "            print(rare_char[0])\n",
    "except Exception as e:\n",
    "    print(e)"
   ]
  },
  {
   "cell_type": "code",
   "execution_count": 3,
   "metadata": {},
   "outputs": [],
   "source": [
    "# challenge 3"
   ]
  },
  {
   "cell_type": "code",
   "execution_count": 14,
   "metadata": {},
   "outputs": [
    {
     "name": "stdout",
     "output_type": "stream",
     "text": [
      "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\n"
     ]
    }
   ],
   "source": [
    "from collections import Counter\n",
    "\n",
    "try:\n",
    "    with open('challenge3.txt','r') as f:\n",
    "        text = f.read()\n",
    "        word = []\n",
    "        i = 3\n",
    "        for i in range(len(text)-3):\n",
    "            before3 = text[i-3].isupper()\n",
    "            before2 = text[i-2].isupper()\n",
    "            before1 = text[i-1].isupper()\n",
    "            after1 = text[i+1].isupper()\n",
    "            after2 = text[i+2].isupper()\n",
    "            after3 = text[i+3].isupper()\n",
    "            if text[i].islower() and (before3 and before2 and before1 and after1 and after2 and after3):\n",
    "                word.append(text[i-3] + text[i-2] + text[i-1] + text[i] + text[i+1] + text[i+2] + text[i+3])\n",
    "        print(*word, sep=\"\")\n",
    "except Exception as e:\n",
    "    print(e)"
   ]
  },
  {
   "cell_type": "code",
   "execution_count": null,
   "metadata": {},
   "outputs": [],
   "source": []
  },
  {
   "cell_type": "code",
   "execution_count": null,
   "metadata": {},
   "outputs": [],
   "source": []
  },
  {
   "cell_type": "code",
   "execution_count": null,
   "metadata": {},
   "outputs": [],
   "source": []
  },
  {
   "cell_type": "code",
   "execution_count": null,
   "metadata": {},
   "outputs": [],
   "source": []
  },
  {
   "cell_type": "code",
   "execution_count": null,
   "metadata": {},
   "outputs": [],
   "source": []
  },
  {
   "cell_type": "code",
   "execution_count": null,
   "metadata": {},
   "outputs": [],
   "source": []
  },
  {
   "cell_type": "code",
   "execution_count": null,
   "metadata": {},
   "outputs": [],
   "source": []
  },
  {
   "cell_type": "code",
   "execution_count": null,
   "metadata": {},
   "outputs": [],
   "source": []
  },
  {
   "cell_type": "code",
   "execution_count": null,
   "metadata": {},
   "outputs": [],
   "source": []
  },
  {
   "cell_type": "code",
   "execution_count": null,
   "metadata": {},
   "outputs": [],
   "source": []
  },
  {
   "cell_type": "code",
   "execution_count": null,
   "metadata": {},
   "outputs": [],
   "source": []
  },
  {
   "cell_type": "code",
   "execution_count": null,
   "metadata": {},
   "outputs": [],
   "source": []
  },
  {
   "cell_type": "code",
   "execution_count": null,
   "metadata": {},
   "outputs": [],
   "source": []
  },
  {
   "cell_type": "code",
   "execution_count": null,
   "metadata": {},
   "outputs": [],
   "source": []
  },
  {
   "cell_type": "code",
   "execution_count": null,
   "metadata": {},
   "outputs": [],
   "source": []
  },
  {
   "cell_type": "code",
   "execution_count": null,
   "metadata": {},
   "outputs": [],
   "source": []
  },
  {
   "cell_type": "code",
   "execution_count": null,
   "metadata": {},
   "outputs": [],
   "source": []
  },
  {
   "cell_type": "code",
   "execution_count": null,
   "metadata": {},
   "outputs": [],
   "source": []
  },
  {
   "cell_type": "code",
   "execution_count": null,
   "metadata": {},
   "outputs": [],
   "source": []
  },
  {
   "cell_type": "code",
   "execution_count": null,
   "metadata": {},
   "outputs": [],
   "source": []
  },
  {
   "cell_type": "code",
   "execution_count": null,
   "metadata": {},
   "outputs": [],
   "source": []
  },
  {
   "cell_type": "code",
   "execution_count": null,
   "metadata": {},
   "outputs": [],
   "source": []
  },
  {
   "cell_type": "code",
   "execution_count": null,
   "metadata": {},
   "outputs": [],
   "source": []
  },
  {
   "cell_type": "code",
   "execution_count": null,
   "metadata": {},
   "outputs": [],
   "source": []
  },
  {
   "cell_type": "code",
   "execution_count": null,
   "metadata": {},
   "outputs": [],
   "source": []
  },
  {
   "cell_type": "code",
   "execution_count": null,
   "metadata": {},
   "outputs": [],
   "source": []
  },
  {
   "cell_type": "code",
   "execution_count": null,
   "metadata": {},
   "outputs": [],
   "source": []
  },
  {
   "cell_type": "code",
   "execution_count": null,
   "metadata": {},
   "outputs": [],
   "source": []
  },
  {
   "cell_type": "code",
   "execution_count": null,
   "metadata": {},
   "outputs": [],
   "source": []
  },
  {
   "cell_type": "code",
   "execution_count": null,
   "metadata": {},
   "outputs": [],
   "source": []
  },
  {
   "cell_type": "code",
   "execution_count": null,
   "metadata": {},
   "outputs": [],
   "source": []
  },
  {
   "cell_type": "code",
   "execution_count": null,
   "metadata": {},
   "outputs": [],
   "source": []
  },
  {
   "cell_type": "code",
   "execution_count": null,
   "metadata": {},
   "outputs": [],
   "source": []
  },
  {
   "cell_type": "code",
   "execution_count": null,
   "metadata": {},
   "outputs": [],
   "source": []
  },
  {
   "cell_type": "code",
   "execution_count": null,
   "metadata": {},
   "outputs": [],
   "source": []
  },
  {
   "cell_type": "code",
   "execution_count": null,
   "metadata": {},
   "outputs": [],
   "source": []
  },
  {
   "cell_type": "code",
   "execution_count": null,
   "metadata": {},
   "outputs": [],
   "source": []
  },
  {
   "cell_type": "code",
   "execution_count": null,
   "metadata": {},
   "outputs": [],
   "source": []
  },
  {
   "cell_type": "code",
   "execution_count": null,
   "metadata": {},
   "outputs": [],
   "source": []
  },
  {
   "cell_type": "code",
   "execution_count": null,
   "metadata": {},
   "outputs": [],
   "source": []
  },
  {
   "cell_type": "code",
   "execution_count": null,
   "metadata": {},
   "outputs": [],
   "source": []
  },
  {
   "cell_type": "code",
   "execution_count": null,
   "metadata": {},
   "outputs": [],
   "source": []
  },
  {
   "cell_type": "code",
   "execution_count": null,
   "metadata": {},
   "outputs": [],
   "source": []
  },
  {
   "cell_type": "code",
   "execution_count": null,
   "metadata": {},
   "outputs": [],
   "source": []
  },
  {
   "cell_type": "code",
   "execution_count": null,
   "metadata": {},
   "outputs": [],
   "source": []
  },
  {
   "cell_type": "code",
   "execution_count": null,
   "metadata": {},
   "outputs": [],
   "source": []
  },
  {
   "cell_type": "code",
   "execution_count": null,
   "metadata": {},
   "outputs": [],
   "source": []
  },
  {
   "cell_type": "code",
   "execution_count": null,
   "metadata": {},
   "outputs": [],
   "source": []
  },
  {
   "cell_type": "code",
   "execution_count": null,
   "metadata": {},
   "outputs": [],
   "source": []
  },
  {
   "cell_type": "code",
   "execution_count": null,
   "metadata": {},
   "outputs": [],
   "source": []
  },
  {
   "cell_type": "code",
   "execution_count": null,
   "metadata": {},
   "outputs": [],
   "source": []
  },
  {
   "cell_type": "code",
   "execution_count": null,
   "metadata": {},
   "outputs": [],
   "source": []
  },
  {
   "cell_type": "code",
   "execution_count": null,
   "metadata": {},
   "outputs": [],
   "source": []
  },
  {
   "cell_type": "code",
   "execution_count": null,
   "metadata": {},
   "outputs": [],
   "source": []
  },
  {
   "cell_type": "code",
   "execution_count": null,
   "metadata": {},
   "outputs": [],
   "source": []
  },
  {
   "cell_type": "code",
   "execution_count": null,
   "metadata": {},
   "outputs": [],
   "source": []
  },
  {
   "cell_type": "code",
   "execution_count": null,
   "metadata": {},
   "outputs": [],
   "source": []
  },
  {
   "cell_type": "code",
   "execution_count": null,
   "metadata": {},
   "outputs": [],
   "source": []
  },
  {
   "cell_type": "code",
   "execution_count": null,
   "metadata": {},
   "outputs": [],
   "source": []
  },
  {
   "cell_type": "code",
   "execution_count": null,
   "metadata": {},
   "outputs": [],
   "source": []
  }
 ],
 "metadata": {
  "kernelspec": {
   "display_name": "Python 3",
   "language": "python",
   "name": "python3"
  },
  "language_info": {
   "codemirror_mode": {
    "name": "ipython",
    "version": 3
   },
   "file_extension": ".py",
   "mimetype": "text/x-python",
   "name": "python",
   "nbconvert_exporter": "python",
   "pygments_lexer": "ipython3",
   "version": "3.8.1"
  }
 },
 "nbformat": 4,
 "nbformat_minor": 4
}
